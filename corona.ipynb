{
 "cells": [
  {
   "cell_type": "code",
   "execution_count": 1,
   "metadata": {},
   "outputs": [],
   "source": [
    "import pickle\n",
    "import pandas as pd\n",
    "from tqdm import tqdm\n",
    "\n",
    "# load parsed json and turn into dataframe\n",
    "get_docs = open(f\"docs_1.pickle\", \"rb\")\n",
    "docs = pickle.load(get_docs)"
   ]
  },
  {
   "cell_type": "code",
   "execution_count": 2,
   "metadata": {},
   "outputs": [
    {
     "name": "stdout",
     "output_type": "stream",
     "text": [
      "<class 'pandas.core.frame.DataFrame'>\n",
      "RangeIndex: 52097 entries, 0 to 52096\n",
      "Data columns (total 4 columns):\n",
      "sha          52097 non-null object\n",
      "title        52097 non-null object\n",
      "abstract     52097 non-null object\n",
      "full_text    52097 non-null object\n",
      "dtypes: object(4)\n",
      "memory usage: 1.6+ MB\n"
     ]
    }
   ],
   "source": [
    "#create a dataframe out of the docs\n",
    "df = pd.DataFrame(docs, columns=[\"sha\", \"title\", \"abstract\", \"full_text\"])\n",
    "df.info()"
   ]
  },
  {
   "cell_type": "code",
   "execution_count": 3,
   "metadata": {},
   "outputs": [
    {
     "data": {
      "text/plain": [
       "(2185, 4)"
      ]
     },
     "execution_count": 3,
     "metadata": {},
     "output_type": "execute_result"
    }
   ],
   "source": [
    "# get only papers that's related to corona virus\n",
    "COVID_19_TERMS = 'covid-19|covid 19|covid-2019|covid 2019|2019-ncov|ncov-2019|wuhan virus|wuhan coronavirus|wuhan pneumonia|sars-cov-2|sars-cov2'\n",
    "corona_df = df[df[\"full_text\"].str.contains(COVID_19_TERMS)]\n",
    "corona_df.shape"
   ]
  },
  {
   "cell_type": "code",
   "execution_count": 4,
   "metadata": {},
   "outputs": [
    {
     "data": {
      "text/plain": [
       "(585, 4)"
      ]
     },
     "execution_count": 4,
     "metadata": {},
     "output_type": "execute_result"
    }
   ],
   "source": [
    "# get only papers that's related to incubation\n",
    "INCUBATION_TERMS = 'incubation|incubate'\n",
    "incubation_df0 = corona_df[corona_df[\"full_text\"].str.contains(INCUBATION_TERMS)]\n",
    "incubation_df0.shape"
   ]
  },
  {
   "cell_type": "code",
   "execution_count": 6,
   "metadata": {},
   "outputs": [
    {
     "data": {
      "text/plain": [
       "(488, 7)"
      ]
     },
     "execution_count": 6,
     "metadata": {},
     "output_type": "execute_result"
    }
   ],
   "source": [
    "# skip papers older than 2020 and papers without publish date (otherwise you get malaria and noises from old papers)\n",
    "meta_df = pd.read_csv(f\"data/metadata.csv\")\n",
    "date_df = meta_df[[\"sha\", \"publish_time\", \"journal\", \"url\"]]\n",
    "incubation_df1 = incubation_df0.merge(date_df, left_on=\"sha\", right_on=\"sha\")\n",
    "incubation_df1.shape"
   ]
  },
  {
   "cell_type": "code",
   "execution_count": 7,
   "metadata": {},
   "outputs": [],
   "source": [
    "incubation_df1.to_csv(f\"data-out/incubation_df.csv\")"
   ]
  }
 ],
 "metadata": {
  "kernelspec": {
   "display_name": "Python 3",
   "language": "python",
   "name": "python3"
  },
  "language_info": {
   "codemirror_mode": {
    "name": "ipython",
    "version": 3
   },
   "file_extension": ".py",
   "mimetype": "text/x-python",
   "name": "python",
   "nbconvert_exporter": "python",
   "pygments_lexer": "ipython3",
   "version": "3.7.4"
  }
 },
 "nbformat": 4,
 "nbformat_minor": 2
}
