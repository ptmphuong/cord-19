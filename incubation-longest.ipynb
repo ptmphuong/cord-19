{
 "cells": [
  {
   "cell_type": "code",
   "execution_count": 1,
   "metadata": {},
   "outputs": [],
   "source": [
    "import re\n",
    "import pandas as pd\n",
    "import numpy as np\n",
    "import matplotlib.pyplot as plt\n",
    "\n",
    "incubation_df = pd.read_csv(\"data-out/incubation_df.csv\")"
   ]
  },
  {
   "cell_type": "code",
   "execution_count": 2,
   "metadata": {},
   "outputs": [
    {
     "data": {
      "text/html": [
       "<div>\n",
       "<style scoped>\n",
       "    .dataframe tbody tr th:only-of-type {\n",
       "        vertical-align: middle;\n",
       "    }\n",
       "\n",
       "    .dataframe tbody tr th {\n",
       "        vertical-align: top;\n",
       "    }\n",
       "\n",
       "    .dataframe thead th {\n",
       "        text-align: right;\n",
       "    }\n",
       "</style>\n",
       "<table border=\"1\" class=\"dataframe\">\n",
       "  <thead>\n",
       "    <tr style=\"text-align: right;\">\n",
       "      <th></th>\n",
       "      <th>incubation_day</th>\n",
       "      <th>days</th>\n",
       "      <th>simple_sentence</th>\n",
       "      <th>compound_sentence</th>\n",
       "      <th>paper_title</th>\n",
       "      <th>sha</th>\n",
       "      <th>publish_time</th>\n",
       "      <th>journal</th>\n",
       "      <th>url</th>\n",
       "    </tr>\n",
       "  </thead>\n",
       "  <tbody>\n",
       "    <tr>\n",
       "      <th>0</th>\n",
       "      <td>7.0</td>\n",
       "      <td>[(7 days, )]</td>\n",
       "      <td>we estimated that the length of isolation in t...</td>\n",
       "      <td>we estimated that the length of isolation in t...</td>\n",
       "      <td>Global versus focused isolation during the SAR...</td>\n",
       "      <td>08a40e31fde744729050ab037f80aa67c7d1053f</td>\n",
       "      <td>2020-04-01</td>\n",
       "      <td>None</td>\n",
       "      <td>None</td>\n",
       "    </tr>\n",
       "    <tr>\n",
       "      <th>1</th>\n",
       "      <td>55.0</td>\n",
       "      <td>[(55 days, )]</td>\n",
       "      <td>the longest incubation period was 55 days.</td>\n",
       "      <td>the longest incubation period was 55 days.</td>\n",
       "      <td>Clinical features and outcomes of 197 adult di...</td>\n",
       "      <td>0c85befc7b4ab7e702e8fbadd9e07f6dbd870559</td>\n",
       "      <td>2020-03-30</td>\n",
       "      <td>None</td>\n",
       "      <td>None</td>\n",
       "    </tr>\n",
       "    <tr>\n",
       "      <th>2</th>\n",
       "      <td>10.0</td>\n",
       "      <td>[(10 days, )]</td>\n",
       "      <td>the incubation period of our cases was in a ra...</td>\n",
       "      <td>consistent to previous reports, the incubation...</td>\n",
       "      <td>Prevalence and clinical features of 2019 novel...</td>\n",
       "      <td>0eee9760aee0ca2fdf8d1d215c3689d5f8d84df5</td>\n",
       "      <td>2020-02-27</td>\n",
       "      <td>None</td>\n",
       "      <td>None</td>\n",
       "    </tr>\n",
       "    <tr>\n",
       "      <th>3</th>\n",
       "      <td>11.1</td>\n",
       "      <td>[(11.1 days, .1)]</td>\n",
       "      <td>the incubation period ranges from 2.1 to 11.1 ...</td>\n",
       "      <td>the incubation period ranges from 2.1 to 11.1 ...</td>\n",
       "      <td>Title: The incubation period of 2019-nCoV infe...</td>\n",
       "      <td>12fac9aedb1a09a3922a3c084ce4723708e463d6</td>\n",
       "      <td>2020-01-28</td>\n",
       "      <td>None</td>\n",
       "      <td>None</td>\n",
       "    </tr>\n",
       "    <tr>\n",
       "      <th>4</th>\n",
       "      <td>15.5</td>\n",
       "      <td>[(15.5 days, .5)]</td>\n",
       "      <td>the incubation period ranging from 2.4 to 15.5...</td>\n",
       "      <td>although the lognormal distribution provides t...</td>\n",
       "      <td>Title: The incubation period of 2019-nCoV infe...</td>\n",
       "      <td>12fac9aedb1a09a3922a3c084ce4723708e463d6</td>\n",
       "      <td>2020-01-28</td>\n",
       "      <td>None</td>\n",
       "      <td>None</td>\n",
       "    </tr>\n",
       "  </tbody>\n",
       "</table>\n",
       "</div>"
      ],
      "text/plain": [
       "   incubation_day               days  \\\n",
       "0             7.0       [(7 days, )]   \n",
       "1            55.0      [(55 days, )]   \n",
       "2            10.0      [(10 days, )]   \n",
       "3            11.1  [(11.1 days, .1)]   \n",
       "4            15.5  [(15.5 days, .5)]   \n",
       "\n",
       "                                     simple_sentence  \\\n",
       "0  we estimated that the length of isolation in t...   \n",
       "1         the longest incubation period was 55 days.   \n",
       "2  the incubation period of our cases was in a ra...   \n",
       "3  the incubation period ranges from 2.1 to 11.1 ...   \n",
       "4  the incubation period ranging from 2.4 to 15.5...   \n",
       "\n",
       "                                   compound_sentence  \\\n",
       "0  we estimated that the length of isolation in t...   \n",
       "1         the longest incubation period was 55 days.   \n",
       "2  consistent to previous reports, the incubation...   \n",
       "3  the incubation period ranges from 2.1 to 11.1 ...   \n",
       "4  although the lognormal distribution provides t...   \n",
       "\n",
       "                                         paper_title  \\\n",
       "0  Global versus focused isolation during the SAR...   \n",
       "1  Clinical features and outcomes of 197 adult di...   \n",
       "2  Prevalence and clinical features of 2019 novel...   \n",
       "3  Title: The incubation period of 2019-nCoV infe...   \n",
       "4  Title: The incubation period of 2019-nCoV infe...   \n",
       "\n",
       "                                        sha publish_time journal   url  \n",
       "0  08a40e31fde744729050ab037f80aa67c7d1053f   2020-04-01    None  None  \n",
       "1  0c85befc7b4ab7e702e8fbadd9e07f6dbd870559   2020-03-30    None  None  \n",
       "2  0eee9760aee0ca2fdf8d1d215c3689d5f8d84df5   2020-02-27    None  None  \n",
       "3  12fac9aedb1a09a3922a3c084ce4723708e463d6   2020-01-28    None  None  \n",
       "4  12fac9aedb1a09a3922a3c084ce4723708e463d6   2020-01-28    None  None  "
      ]
     },
     "execution_count": 2,
     "metadata": {},
     "output_type": "execute_result"
    }
   ],
   "source": [
    "#get \"longest incubation values\" from single sentences and collect all info in a dataframe\n",
    "incubation_table_docs = []\n",
    "longest = [\"range\", \"ranging\", \"ranged\", \"longest\", \"up to\", \"maximum\"]\n",
    "\n",
    "for i in range(len(incubation_df)):\n",
    "    for compound_sentence in re.split(r'(?<!\\w\\.\\w.)(?<![A-Z][a-z]\\.)(?<=\\.|\\?)\\s', incubation_df[\"full_text\"].values[i]):\n",
    "        for simple_sentence in compound_sentence.split(\", \"):\n",
    "            for m in longest:\n",
    "                if m in simple_sentence and \"incubation\" in simple_sentence and \"interquartile\" not in simple_sentence:\n",
    "                    incubation_day = re.findall(r'(\\d{1,2}(\\.\\d{1,2})? day[s]?)', simple_sentence)\n",
    "                    if len(incubation_day) == 1:\n",
    "                        num = incubation_day[0][0].split(\" \")\n",
    "                        incubation_table_docs.append([float(num[0]), incubation_day, simple_sentence, compound_sentence, incubation_df[\"title\"].values[i], incubation_df[\"sha\"].values[i], incubation_df[\"publish_time\"].values[i]])\n",
    "                    if len(incubation_day) > 1:\n",
    "                        num_list = []\n",
    "                        for day in incubation_day:\n",
    "                            num = day[0].split(\" \")[0]\n",
    "                            num_list.append(float(num))\n",
    "                        max_num = max(num_list)\n",
    "                        incubation_table_docs.append([max_num,\n",
    "                                                    incubation_day,\n",
    "                                                    simple_sentence,\n",
    "                                                    compound_sentence,\n",
    "                                                    incubation_df[\"title\"].values[i],\n",
    "                                                    incubation_df[\"sha\"].values[i],\n",
    "                                                    incubation_df[\"publish_time\"].values[i],\n",
    "                                                    incubation_df[\"journal\"].values[i],\n",
    "                                                    incubation_df[\"url\"].values[i]])\n",
    "\n",
    "incubation_table = pd.DataFrame(incubation_table_docs, columns=[\"incubation_day\",\n",
    "                                                                \"days\",\n",
    "                                                                \"simple_sentence\",\n",
    "                                                                \"compound_sentence\",\n",
    "                                                                \"paper_title\",\n",
    "                                                                \"sha\",\n",
    "                                                                \"publish_time\",\n",
    "                                                                \"journal\",\n",
    "                                                                \"url\"])\n",
    "incubation_table.head()"
   ]
  },
  {
   "cell_type": "code",
   "execution_count": 3,
   "metadata": {},
   "outputs": [
    {
     "data": {
      "text/plain": [
       "(54, 9)"
      ]
     },
     "execution_count": 3,
     "metadata": {},
     "output_type": "execute_result"
    }
   ],
   "source": [
    "# skip duplicates by paper_id, compound sentence\n",
    "incubation_table.drop_duplicates(subset=\"compound_sentence\", inplace=True)\n",
    "incubation_table.drop_duplicates(subset=\"sha\", inplace=True)\n",
    "incubation_table.shape"
   ]
  },
  {
   "cell_type": "code",
   "execution_count": 4,
   "metadata": {},
   "outputs": [],
   "source": [
    "incubation_table.to_csv(\"data-out/incubation_table_longest.csv\", index=False, header=True)"
   ]
  },
  {
   "cell_type": "code",
   "execution_count": 5,
   "metadata": {},
   "outputs": [
    {
     "name": "stdout",
     "output_type": "stream",
     "text": [
      "error %:  14.814814814814813\n"
     ]
    }
   ],
   "source": [
    "#go through the csv file, then pick sentences with incorrect resutts\n",
    "sentences_to_delete = [\"\\nbest estimate (used in figure 2 ) plausible range (used in figure 3 )\\n\\nmean incubation period 5.5 days sensitivity: 4.5 or 6.5 clinical data: 83% fever\",\n",
    "                        \"we estimated that the length of isolation in the high risk population will decrease from two weeks to an average of 7 days which is within the range of the average incubation period (6) (7) (8) .\",\n",
    "                        \"an influenza outbreak can be declared over if no new cases occur within 8 days following the onset of symptoms in the last resident case (8 days is the sum of the usual infectious period [5 days] plus maximum incubation period [3days]).\"]\n",
    "\n",
    "update_dict = {\"in which the incubation period is exponentially distributed with mean l in the range of 3 -6 days and the infectious period is also exponentially distributed with mean z in the range of 2 to 7 days.\": 6.0,\n",
    "                    \"the median incubation period was 3.0 days (range\": 24.0,\n",
    "                    \"reported that the estimated mean incubation period of sars-cov-2 infection was 3.0 days (range\" : 24.0,\n",
    "                    \"the study indicated the median incubation period to be 3.0 days (range\": 24.0,\n",
    "                    \"9 the range of the incubation period for 2019-ncov is estimated to be 2-14 days\": 24.0}\n",
    "\n",
    "sentences_to_update = list(update_dict.keys())\n",
    "\n",
    "no_of_error = len(sentences_to_delete) + len(sentences_to_update)\n",
    "error_percentage = no_of_error/len(incubation_table[\"incubation_day\"].values)*100\n",
    "print(\"error %: \", error_percentage)"
   ]
  },
  {
   "cell_type": "code",
   "execution_count": 6,
   "metadata": {},
   "outputs": [
    {
     "data": {
      "text/plain": [
       "(51, 9)"
      ]
     },
     "execution_count": 6,
     "metadata": {},
     "output_type": "execute_result"
    }
   ],
   "source": [
    "#drop non-related results\n",
    "incubation_table = incubation_table[~incubation_table[\"simple_sentence\"].isin(sentences_to_delete)]\n",
    "incubation_table.shape"
   ]
  },
  {
   "cell_type": "code",
   "execution_count": 7,
   "metadata": {},
   "outputs": [
    {
     "data": {
      "text/plain": [
       "(51, 9)"
      ]
     },
     "execution_count": 7,
     "metadata": {},
     "output_type": "execute_result"
    }
   ],
   "source": [
    "#update correct results\n",
    "to_update = incubation_table.copy()[incubation_table[\"simple_sentence\"].isin(sentences_to_update)]\n",
    "to_update[\"incubation_day\"] = to_update[\"simple_sentence\"].map(update_dict)\n",
    "incubation_table = incubation_table[~incubation_table[\"simple_sentence\"].isin(sentences_to_update)]\n",
    "incubation_table = pd.concat([incubation_table, to_update])\n",
    "incubation_table.shape"
   ]
  },
  {
   "cell_type": "code",
   "execution_count": 8,
   "metadata": {},
   "outputs": [],
   "source": [
    "incubation_table.to_csv(\"data-out/incubation_table_longest_corrected.csv\", index=False, header=True)"
   ]
  },
  {
   "cell_type": "code",
   "execution_count": 9,
   "metadata": {},
   "outputs": [
    {
     "name": "stdout",
     "output_type": "stream",
     "text": [
      "[55.  10.  11.1 11.1 23.  32.  10.  14.   6.  14.  14.  14.  15.  33.\n",
      " 23.  11.3 14.  14.  24.  14.  20.  14.  24.  14.  14.   8.  14.  24.\n",
      " 10.  14.  14.  14.  14.  14.  14.  14.  13.  14.  14.  13.  20.   9.\n",
      " 14.  22.  14.  24.   6.  24.  24.  24.  24. ]\n",
      "incubation_day\n",
      "14.0    22\n",
      "24.0     8\n",
      "10.0     3\n",
      "23.0     2\n",
      "20.0     2\n",
      "13.0     2\n",
      "11.1     2\n",
      "6.0      2\n",
      "55.0     1\n",
      "33.0     1\n",
      "32.0     1\n",
      "22.0     1\n",
      "15.0     1\n",
      "11.3     1\n",
      "9.0      1\n",
      "8.0      1\n",
      "Name: compound_sentence, dtype: int64\n"
     ]
    }
   ],
   "source": [
    "#get incubation mean values\n",
    "incubation_longest = incubation_table[\"incubation_day\"].values\n",
    "print(incubation_longest)\n",
    "print(incubation_table.groupby(\"incubation_day\")[\"compound_sentence\"].count().sort_values(ascending=False))"
   ]
  },
  {
   "cell_type": "code",
   "execution_count": 10,
   "metadata": {},
   "outputs": [
    {
     "data": {
      "image/png": "[encoded data removed]",
      "text/plain": [
       "<Figure size 720x360 with 1 Axes>"
      ]
     },
     "metadata": {
      "needs_background": "light"
     },
     "output_type": "display_data"
    }
   ],
   "source": [
    "#plot results\n",
    "fig, ax = plt.subplots(figsize=[10,5])\n",
    "bins = int(max(incubation_longest))\n",
    "arr = plt.hist(incubation_longest, ec=\"lightblue\", bins=bins)\n",
    "for i in range(bins):\n",
    "    if arr[0][i] != 0:\n",
    "        plt.text(arr[1][i],arr[0][i],str(int(arr[0][i])))\n",
    "ax.set_yticklabels([])\n",
    "ax.set_yticks([])\n",
    "ax.set_xticks(np.arange(0,bins+1,5))\n",
    "plt.ylabel(f\"no. of papers reported (total={len(incubation_longest)})\")\n",
    "plt.xlabel(\"2019-nCoV longest incubation period (days)\")\n",
    "plt.title(\"The incubation period of 2019-nCoV, filtered from over 52,000 scholarly articles\\n\")\n",
    "plt.suptitle(\"\\n\\nSource: COVID-19 Open Research Dataset (CORD-19), Kaggle\\n\\n\", fontsize=10)\n",
    "plt.show()"
   ]
  }
 ],
 "metadata": {
  "kernelspec": {
   "display_name": "Python 3",
   "language": "python",
   "name": "python3"
  },
  "language_info": {
   "codemirror_mode": {
    "name": "ipython",
    "version": 3
   },
   "file_extension": ".py",
   "mimetype": "text/x-python",
   "name": "python",
   "nbconvert_exporter": "python",
   "pygments_lexer": "ipython3",
   "version": "3.7.4"
  }
 },
 "nbformat": 4,
 "nbformat_minor": 2
}
