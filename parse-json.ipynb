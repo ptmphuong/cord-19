{
 "cells": [
  {
   "cell_type": "code",
   "execution_count": 1,
   "metadata": {},
   "outputs": [],
   "source": [
    "import os\n",
    "import json\n",
    "import pickle\n",
    "from tqdm import tqdm\n",
    "\n",
    "dirs = [\"biorxiv_medrxiv\", \"comm_use_subset\",\n",
    "        \"custom_license\", \"noncomm_use_subset\"]\n",
    "folders = [\"pdf_json\", \"pmc_json\"]\n",
    "docs = []"
   ]
  },
  {
   "cell_type": "code",
   "execution_count": 2,
   "metadata": {},
   "outputs": [
    {
     "name": "stderr",
     "output_type": "stream",
     "text": [
      "100%|█████████████████████████████████████████████████████████████████████████████| 1342/1342 [00:01<00:00, 928.87it/s]\n",
      "0it [00:00, ?it/s]\n",
      "100%|█████████████████████████████████████████████████████████████████████████████| 9365/9365 [00:15<00:00, 595.01it/s]\n",
      "100%|█████████████████████████████████████████████████████████████████████████████| 8995/8995 [00:15<00:00, 594.75it/s]\n",
      "100%|███████████████████████████████████████████████████████████████████████████| 23152/23152 [00:42<00:00, 548.05it/s]\n",
      "100%|█████████████████████████████████████████████████████████████████████████████| 4773/4773 [00:16<00:00, 298.30it/s]\n",
      "100%|█████████████████████████████████████████████████████████████████████████████| 2377/2377 [00:04<00:00, 565.25it/s]\n",
      "100%|█████████████████████████████████████████████████████████████████████████████| 2093/2093 [00:02<00:00, 703.46it/s]\n"
     ]
    }
   ],
   "source": [
    "# iterate and get all the files\n",
    "for d in dirs:\n",
    "    for f in folders:\n",
    "        for filename in tqdm(os.listdir(f\"data/{d}/{d}/{f}\")):\n",
    "            file_path = f\"data/{d}/{d}/{f}/{filename}\"\n",
    "            j = json.load(open(file_path, \"rb\"))\n",
    "\n",
    "            title = j[\"metadata\"][\"title\"]\n",
    "            paper_id = j[\"paper_id\"]\n",
    "\n",
    "            try:\n",
    "                abstract = j[\"abstract\"][0]\n",
    "            except:\n",
    "                abstract = [\"\"]\n",
    "\n",
    "            full_text = \"\"\n",
    "            for text in j[\"body_text\"]:\n",
    "                full_text += text[\"text\"].lower() + \"\\n\\n\"\n",
    "\n",
    "            docs.append([paper_id, title, abstract, full_text])"
   ]
  },
  {
   "cell_type": "code",
   "execution_count": 3,
   "metadata": {},
   "outputs": [],
   "source": [
    "doc_out = open(f\"docs_1.pickle\", \"wb\")\n",
    "pickle.dump(docs, doc_out)\n",
    "doc_out.close()"
   ]
  },
  {
   "cell_type": "code",
   "execution_count": null,
   "metadata": {},
   "outputs": [],
   "source": []
  }
 ],
 "metadata": {
  "kernelspec": {
   "display_name": "Python 3",
   "language": "python",
   "name": "python3"
  },
  "language_info": {
   "codemirror_mode": {
    "name": "ipython",
    "version": 3
   },
   "file_extension": ".py",
   "mimetype": "text/x-python",
   "name": "python",
   "nbconvert_exporter": "python",
   "pygments_lexer": "ipython3",
   "version": "3.7.4"
  }
 },
 "nbformat": 4,
 "nbformat_minor": 2
}
