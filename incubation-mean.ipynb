{
 "cells": [
  {
   "cell_type": "code",
   "execution_count": 1,
   "metadata": {},
   "outputs": [],
   "source": [
    "import re\n",
    "import pandas as pd\n",
    "import numpy as np\n",
    "import matplotlib.pyplot as plt\n",
    "\n",
    "incubation_df = pd.read_csv(\"data-out/incubation_df.csv\")"
   ]
  },
  {
   "cell_type": "code",
   "execution_count": 3,
   "metadata": {},
   "outputs": [
    {
     "data": {
      "text/html": [
       "<div>\n",
       "<style scoped>\n",
       "    .dataframe tbody tr th:only-of-type {\n",
       "        vertical-align: middle;\n",
       "    }\n",
       "\n",
       "    .dataframe tbody tr th {\n",
       "        vertical-align: top;\n",
       "    }\n",
       "\n",
       "    .dataframe thead th {\n",
       "        text-align: right;\n",
       "    }\n",
       "</style>\n",
       "<table border=\"1\" class=\"dataframe\">\n",
       "  <thead>\n",
       "    <tr style=\"text-align: right;\">\n",
       "      <th></th>\n",
       "      <th>incubation_day</th>\n",
       "      <th>days</th>\n",
       "      <th>simple_sentence</th>\n",
       "      <th>compound_sentence</th>\n",
       "      <th>paper_title</th>\n",
       "      <th>sha</th>\n",
       "      <th>publish_time</th>\n",
       "      <th>journal</th>\n",
       "      <th>url</th>\n",
       "    </tr>\n",
       "  </thead>\n",
       "  <tbody>\n",
       "    <tr>\n",
       "      <th>0</th>\n",
       "      <td>7.0</td>\n",
       "      <td>[( 7 days, )]</td>\n",
       "      <td>we estimated that the length of isolation in t...</td>\n",
       "      <td>we estimated that the length of isolation in t...</td>\n",
       "      <td>Global versus focused isolation during the SAR...</td>\n",
       "      <td>08a40e31fde744729050ab037f80aa67c7d1053f</td>\n",
       "      <td>2020-04-01</td>\n",
       "      <td>NaN</td>\n",
       "      <td>https://doi.org/10.1101/2020.03.30.20047860</td>\n",
       "    </tr>\n",
       "    <tr>\n",
       "      <th>1</th>\n",
       "      <td>7.4</td>\n",
       "      <td>[( 7.4 days, .4)]</td>\n",
       "      <td>the 483 confirmed patients were with average e...</td>\n",
       "      <td>specifically, the 483 confirmed patients were ...</td>\n",
       "      <td>Epidemiological characteristics of 1212 COVID-...</td>\n",
       "      <td>091a8e9a61e19e88caeb039f0e3888d111b20439</td>\n",
       "      <td>2020-02-23</td>\n",
       "      <td>NaN</td>\n",
       "      <td>https://doi.org/10.1101/2020.02.21.20026112</td>\n",
       "    </tr>\n",
       "    <tr>\n",
       "      <th>2</th>\n",
       "      <td>7.4</td>\n",
       "      <td>[( 7.4 days, .4)]</td>\n",
       "      <td>statistical analysis on 483 patients reveals t...</td>\n",
       "      <td>statistical analysis on 483 patients reveals t...</td>\n",
       "      <td>Epidemiological characteristics of 1212 COVID-...</td>\n",
       "      <td>091a8e9a61e19e88caeb039f0e3888d111b20439</td>\n",
       "      <td>2020-02-23</td>\n",
       "      <td>NaN</td>\n",
       "      <td>https://doi.org/10.1101/2020.02.21.20026112</td>\n",
       "    </tr>\n",
       "    <tr>\n",
       "      <th>3</th>\n",
       "      <td>5.0</td>\n",
       "      <td>[( 5 day, ), ( 5 day, )]</td>\n",
       "      <td>comprising a mean about 5 day incubation perio...</td>\n",
       "      <td>according to the recent report, there is a mea...</td>\n",
       "      <td>A simple model to assess Wuhan lock-down effec...</td>\n",
       "      <td>0bd443591b5e10934beef050b516afeca6b668fe</td>\n",
       "      <td>2020-03-03</td>\n",
       "      <td>NaN</td>\n",
       "      <td>https://doi.org/10.1101/2020.02.29.20029561</td>\n",
       "    </tr>\n",
       "    <tr>\n",
       "      <th>4</th>\n",
       "      <td>4.9</td>\n",
       "      <td>[( 4.9 days, .9)]</td>\n",
       "      <td>we estimated that the mean incubation period w...</td>\n",
       "      <td>we estimated that the mean incubation period w...</td>\n",
       "      <td>High transmissibility of COVID-19 near symptom...</td>\n",
       "      <td>112e05c31018c816d0bd9ee64336eba79ee786ac</td>\n",
       "      <td>2020-03-19</td>\n",
       "      <td>NaN</td>\n",
       "      <td>https://doi.org/10.1101/2020.03.18.20034561</td>\n",
       "    </tr>\n",
       "  </tbody>\n",
       "</table>\n",
       "</div>"
      ],
      "text/plain": [
       "   incubation_day                      days  \\\n",
       "0             7.0             [( 7 days, )]   \n",
       "1             7.4         [( 7.4 days, .4)]   \n",
       "2             7.4         [( 7.4 days, .4)]   \n",
       "3             5.0  [( 5 day, ), ( 5 day, )]   \n",
       "4             4.9         [( 4.9 days, .9)]   \n",
       "\n",
       "                                     simple_sentence  \\\n",
       "0  we estimated that the length of isolation in t...   \n",
       "1  the 483 confirmed patients were with average e...   \n",
       "2  statistical analysis on 483 patients reveals t...   \n",
       "3  comprising a mean about 5 day incubation perio...   \n",
       "4  we estimated that the mean incubation period w...   \n",
       "\n",
       "                                   compound_sentence  \\\n",
       "0  we estimated that the length of isolation in t...   \n",
       "1  specifically, the 483 confirmed patients were ...   \n",
       "2  statistical analysis on 483 patients reveals t...   \n",
       "3  according to the recent report, there is a mea...   \n",
       "4  we estimated that the mean incubation period w...   \n",
       "\n",
       "                                         paper_title  \\\n",
       "0  Global versus focused isolation during the SAR...   \n",
       "1  Epidemiological characteristics of 1212 COVID-...   \n",
       "2  Epidemiological characteristics of 1212 COVID-...   \n",
       "3  A simple model to assess Wuhan lock-down effec...   \n",
       "4  High transmissibility of COVID-19 near symptom...   \n",
       "\n",
       "                                        sha publish_time journal  \\\n",
       "0  08a40e31fde744729050ab037f80aa67c7d1053f   2020-04-01     NaN   \n",
       "1  091a8e9a61e19e88caeb039f0e3888d111b20439   2020-02-23     NaN   \n",
       "2  091a8e9a61e19e88caeb039f0e3888d111b20439   2020-02-23     NaN   \n",
       "3  0bd443591b5e10934beef050b516afeca6b668fe   2020-03-03     NaN   \n",
       "4  112e05c31018c816d0bd9ee64336eba79ee786ac   2020-03-19     NaN   \n",
       "\n",
       "                                           url  \n",
       "0  https://doi.org/10.1101/2020.03.30.20047860  \n",
       "1  https://doi.org/10.1101/2020.02.21.20026112  \n",
       "2  https://doi.org/10.1101/2020.02.21.20026112  \n",
       "3  https://doi.org/10.1101/2020.02.29.20029561  \n",
       "4  https://doi.org/10.1101/2020.03.18.20034561  "
      ]
     },
     "execution_count": 3,
     "metadata": {},
     "output_type": "execute_result"
    }
   ],
   "source": [
    "#get \"mean incubation values\" from single sentences and collect all info in a dataframe\n",
    "incubation_table_docs = []\n",
    "MEAN = [\"mean\", \"average\"]\n",
    "for i in range(len(incubation_df)):\n",
    "    for compound_sentence in re.split(r'(?<!\\w\\.\\w.)(?<![A-Z][a-z]\\.)(?<=\\.|\\?)\\s', incubation_df[\"full_text\"].values[i]):\n",
    "        for simple_sentence in compound_sentence.split(\", \"):\n",
    "            for m in MEAN:\n",
    "                if m in simple_sentence and \"incubation\" in simple_sentence:\n",
    "                    incubation_day = re.findall(r'( \\d{1,2}(\\.\\d{1,2})? day[s]?)', simple_sentence)\n",
    "                    if len(incubation_day) != 0:\n",
    "                        num = incubation_day[0][0].split(\" \")\n",
    "                        incubation_table_docs.append([float(num[1]), \n",
    "                                                            incubation_day,\n",
    "                                                            simple_sentence,\n",
    "                                                            compound_sentence,\n",
    "                                                            incubation_df[\"title\"].values[i],\n",
    "                                                            incubation_df[\"sha\"].values[i],\n",
    "                                                            incubation_df[\"publish_time\"].values[i],\n",
    "                                                            incubation_df[\"journal\"].values[i],\n",
    "                                                            incubation_df[\"url\"].values[i]])\n",
    "\n",
    "incubation_table = pd.DataFrame(incubation_table_docs, columns=[\"incubation_day\",\n",
    "                                                                \"days\",\n",
    "                                                                \"simple_sentence\",\n",
    "                                                                \"compound_sentence\",\n",
    "                                                                \"paper_title\",\n",
    "                                                                \"sha\",\n",
    "                                                                \"publish_time\",\n",
    "                                                                \"journal\",\n",
    "                                                                \"url\"])\n",
    "incubation_table.head()"
   ]
  },
  {
   "cell_type": "code",
   "execution_count": 4,
   "metadata": {},
   "outputs": [
    {
     "name": "stdout",
     "output_type": "stream",
     "text": [
      "<class 'pandas.core.frame.DataFrame'>\n",
      "Int64Index: 99 entries, 0 to 137\n",
      "Data columns (total 9 columns):\n",
      "incubation_day       99 non-null float64\n",
      "days                 99 non-null object\n",
      "simple_sentence      99 non-null object\n",
      "compound_sentence    99 non-null object\n",
      "paper_title          91 non-null object\n",
      "sha                  99 non-null object\n",
      "publish_time         99 non-null object\n",
      "journal              39 non-null object\n",
      "url                  99 non-null object\n",
      "dtypes: float64(1), object(8)\n",
      "memory usage: 7.7+ KB\n"
     ]
    }
   ],
   "source": [
    "# skip duplicates by paper_id, compound sentence\n",
    "incubation_table.drop_duplicates(subset=\"sha\", inplace=True)\n",
    "incubation_table.drop_duplicates(subset=\"compound_sentence\", inplace=True)\n",
    "incubation_table.info()"
   ]
  },
  {
   "cell_type": "code",
   "execution_count": 5,
   "metadata": {},
   "outputs": [],
   "source": [
    "incubation_table.to_csv(\"data-out/incubation_table_mean.csv\", index=False, header=True)"
   ]
  },
  {
   "cell_type": "code",
   "execution_count": 7,
   "metadata": {},
   "outputs": [
    {
     "name": "stdout",
     "output_type": "stream",
     "text": [
      "error %:  12.121212121212121\n"
     ]
    }
   ],
   "source": [
    "#go through the csv file, then pick sentences with incorrect resutts\n",
    "sentences_to_delete = [\"the average incubation period is between 2 and 21 days\",\n",
    "                        \"we found that the mean incubation period of covid-19 was 8.08 (5.06) days and ranged from 1 to 20 days.\",\n",
    "                        \"we estimated that the length of isolation in the high risk population will decrease from two weeks to an average of 7 days which is within the range of the average incubation period (6) (7) (8) .\",\n",
    "                        \"we conducted sensitivity analyses to examine how varying the mean incubation period between 5.5 and 9.5 days affects our estimates of the true asymptomatic proportion.\",\n",
    "                        \"we assumed the mean incubation period and mean infectious period to be 6·4 days 16 and 3 days or 7 days\"]\n",
    "\n",
    "update_dict = {\"our results show the incubation mean and median of covid-19 are 5.84 and 5.0 days respectively and there is a statistical significance with the role of gender.\": 5.84,\n",
    "                    \"the median incubation period for covid-19 is approximately 5.1 days (mean 5.5 days)\\n\\n• in 97.5% of infected persons\": 5.5,\n",
    "                    \"the incubation period for wuhan travelers estimated from 2.1 to 11.1 days (the mean incubation period was estimated to be 6.4 days)\": 6.4,\n",
    "                    \"studies have suggested an incubation period of 16 days with a mean of 5-6 days [12\": 6.0,\n",
    "                    \"the average incubation period has changed from 7 days determined in january to 3 days estimated recently\": 3.0,\n",
    "                    \"they also estimated mean incubation and contagious periods of 5 and 11 days\": 5.0,\n",
    "                    \"compared to the mean incubation period of 6.4 days of sars [3]\": 5.2}\n",
    "sentences_to_update = list(update_dict.keys())\n",
    "\n",
    "no_of_error = len(sentences_to_delete) + len(sentences_to_update)\n",
    "error_percentage = no_of_error/len(incubation_table[\"incubation_day\"].values)*100\n",
    "print(\"error %: \", error_percentage)"
   ]
  },
  {
   "cell_type": "code",
   "execution_count": 8,
   "metadata": {},
   "outputs": [
    {
     "data": {
      "text/plain": [
       "(94, 9)"
      ]
     },
     "execution_count": 8,
     "metadata": {},
     "output_type": "execute_result"
    }
   ],
   "source": [
    "#drop non-related results\n",
    "incubation_table = incubation_table[~incubation_table[\"simple_sentence\"].isin(sentences_to_delete)]\n",
    "incubation_table.shape"
   ]
  },
  {
   "cell_type": "code",
   "execution_count": 10,
   "metadata": {},
   "outputs": [
    {
     "data": {
      "text/plain": [
       "(94, 9)"
      ]
     },
     "execution_count": 10,
     "metadata": {},
     "output_type": "execute_result"
    }
   ],
   "source": [
    "#update correct results\n",
    "to_update = incubation_table.copy()[incubation_table[\"simple_sentence\"].isin(sentences_to_update)]\n",
    "to_update[\"incubation_day\"] = to_update[\"simple_sentence\"].map(update_dict)\n",
    "incubation_table = incubation_table[~incubation_table[\"simple_sentence\"].isin(sentences_to_update)]\n",
    "incubation_table = pd.concat([incubation_table, to_update])\n",
    "incubation_table.shape"
   ]
  },
  {
   "cell_type": "code",
   "execution_count": 12,
   "metadata": {},
   "outputs": [
    {
     "name": "stdout",
     "output_type": "stream",
     "text": [
      "incubation_day\n",
      "5.20     29\n",
      "5.00     17\n",
      "6.40     12\n",
      "7.00      7\n",
      "3.00      6\n",
      "6.00      4\n",
      "5.50      2\n",
      "4.60      2\n",
      "4.90      2\n",
      "5.10      2\n",
      "10.00     2\n",
      "5.84      1\n",
      "8.42      1\n",
      "6.10      1\n",
      "7.10      1\n",
      "5.01      1\n",
      "7.40      1\n",
      "7.44      1\n",
      "7.50      1\n",
      "5.90      1\n",
      "Name: compound_sentence, dtype: int64\n"
     ]
    }
   ],
   "source": [
    "#get incubation mean values\n",
    "incubation_means = incubation_table[\"incubation_day\"].values\n",
    "print(incubation_table.groupby(\"incubation_day\")[\"compound_sentence\"].count().sort_values(ascending=False))"
   ]
  },
  {
   "cell_type": "code",
   "execution_count": 13,
   "metadata": {},
   "outputs": [
    {
     "data": {
      "image/png": "[encoded data removed]",
      "text/plain": [
       "<Figure size 720x360 with 1 Axes>"
      ]
     },
     "metadata": {
      "needs_background": "light"
     },
     "output_type": "display_data"
    }
   ],
   "source": [
    "#plot results\n",
    "fig, ax = plt.subplots(figsize=[10,5])\n",
    "bins = int(max(incubation_means))*2\n",
    "arr = plt.hist(incubation_means, ec=\"lightblue\", bins=bins)\n",
    "for i in range(bins):\n",
    "    if arr[0][i] != 0:\n",
    "        plt.text(arr[1][i],arr[0][i],str(int(arr[0][i])))\n",
    "ax.set_yticklabels([])\n",
    "ax.set_yticks([])\n",
    "plt.ylabel(f\"no. of papers reported (total={len(incubation_means)})\")\n",
    "plt.xlabel(\"Average incubation period (days)\")\n",
    "plt.title(\"The incubation period of 2019-nCoV, filtered from over 52,000 scholarly articles\\n\")\n",
    "plt.suptitle(\"\\n\\nSource: COVID-19 Open Research Dataset (CORD-19), Kaggle\\n\\n\", fontsize=10)\n",
    "plt.show()"
   ]
  }
 ],
 "metadata": {
  "kernelspec": {
   "display_name": "Python 3",
   "language": "python",
   "name": "python3"
  },
  "language_info": {
   "codemirror_mode": {
    "name": "ipython",
    "version": 3
   },
   "file_extension": ".py",
   "mimetype": "text/x-python",
   "name": "python",
   "nbconvert_exporter": "python",
   "pygments_lexer": "ipython3",
   "version": "3.7.4"
  }
 },
 "nbformat": 4,
 "nbformat_minor": 2
}
